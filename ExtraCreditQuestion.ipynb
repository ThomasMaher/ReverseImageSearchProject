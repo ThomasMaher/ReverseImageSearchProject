{
  "nbformat": 4,
  "nbformat_minor": 0,
  "metadata": {
    "colab": {
      "name": "ExtraCreditQuestion.ipynb",
      "provenance": [],
      "collapsed_sections": []
    },
    "kernelspec": {
      "name": "python3",
      "display_name": "Python 3"
    },
    "language_info": {
      "name": "python"
    }
  },
  "cells": [
    {
      "cell_type": "code",
      "execution_count": null,
      "metadata": {
        "id": "qrFLX4Bw0D9q"
      },
      "outputs": [],
      "source": [
        "#Downloading all the libraries\n",
        "import os\n",
        "import keras\n",
        "from keras.preprocessing import image\n",
        "from keras.applications.imagenet_utils import decode_predictions, preprocess_input\n",
        "from keras.models import Model\n",
        "import tensorflow\n",
        "import random\n",
        "import numpy"
      ]
    },
    {
      "cell_type": "code",
      "source": [
        "import pandas as pd"
      ],
      "metadata": {
        "id": "NusNZc0Z1ilE"
      },
      "execution_count": null,
      "outputs": []
    },
    {
      "cell_type": "code",
      "source": [
        "path = \"/content/youtube_faces_with_keypoints_full.csv\"\n",
        "df_bonus = pd.read_csv(path)"
      ],
      "metadata": {
        "id": "hopEHaA61eCA"
      },
      "execution_count": null,
      "outputs": []
    },
    {
      "cell_type": "code",
      "source": [
        "# Reading the dataset\n",
        "df = pd.DataFrame(df_bonus)\n",
        "print(df)"
      ],
      "metadata": {
        "colab": {
          "base_uri": "https://localhost:8080/"
        },
        "id": "sRfKgjTe12Ym",
        "outputId": "38a5bca7-6b5b-4171-9f39-d5ded6c4a593"
      },
      "execution_count": null,
      "outputs": [
        {
          "output_type": "stream",
          "name": "stdout",
          "text": [
            "               videoID      personName  imageHeight  imageWidth  \\\n",
            "0      Alison_Lohman_0   Alison_Lohman        228.0       213.0   \n",
            "1      Alison_Lohman_1   Alison_Lohman        248.0       201.0   \n",
            "2      Alison_Lohman_2   Alison_Lohman        335.0       308.0   \n",
            "3      Alison_Lohman_3   Alison_Lohman        151.0       110.0   \n",
            "4      Alison_Lohman_4   Alison_Lohman        236.0       228.0   \n",
            "...                ...             ...          ...         ...   \n",
            "2189    Yossi_Beilin_3    Yossi_Beilin        240.0       243.0   \n",
            "2190      Zahir_Shah_0      Zahir_Shah        196.0       200.0   \n",
            "2191      Zahir_Shah_1      Zahir_Shah        240.0       293.0   \n",
            "2192  Zoran_Djindjic_0  Zoran_Djindjic        230.0       237.0   \n",
            "2193  Zoran_Djindjic_2  Zoran_Djindjic        131.0       115.0   \n",
            "\n",
            "      videoDuration  averageFaceSize  numVideosForPerson  \n",
            "0             240.0        90.150000                 6.0  \n",
            "1              79.0       108.417722                 6.0  \n",
            "2             136.0       122.161765                 6.0  \n",
            "3              53.0        58.000000                 6.0  \n",
            "4             147.0        91.680272                 6.0  \n",
            "...             ...              ...                 ...  \n",
            "2189          240.0       110.258333                 2.0  \n",
            "2190          143.0        93.944056                 2.0  \n",
            "2191          240.0       155.495833                 2.0  \n",
            "2192          240.0        98.908333                 2.0  \n",
            "2193          240.0        59.554167                 2.0  \n",
            "\n",
            "[2194 rows x 7 columns]\n"
          ]
        }
      ]
    },
    {
      "cell_type": "code",
      "source": [
        "df = pd.DataFrame(df_bonus)"
      ],
      "metadata": {
        "id": "nK4iFOhh2rGH"
      },
      "execution_count": null,
      "outputs": []
    },
    {
      "cell_type": "code",
      "source": [
        "\n",
        "df_bonus.loc[df_bonus['personName'] == 'Zahir_Shah']"
      ],
      "metadata": {
        "colab": {
          "base_uri": "https://localhost:8080/",
          "height": 112
        },
        "id": "CZRqfRxd270y",
        "outputId": "015e4c57-3ddb-412a-afbd-d25f453e099b"
      },
      "execution_count": null,
      "outputs": [
        {
          "output_type": "execute_result",
          "data": {
            "text/plain": [
              "           videoID  personName  imageHeight  imageWidth  videoDuration  \\\n",
              "2190  Zahir_Shah_0  Zahir_Shah        196.0       200.0          143.0   \n",
              "2191  Zahir_Shah_1  Zahir_Shah        240.0       293.0          240.0   \n",
              "\n",
              "      averageFaceSize  numVideosForPerson  \n",
              "2190        93.944056                 2.0  \n",
              "2191       155.495833                 2.0  "
            ],
            "text/html": [
              "\n",
              "  <div id=\"df-47dd4cca-ed6f-42c6-bf37-ad429266f2b9\">\n",
              "    <div class=\"colab-df-container\">\n",
              "      <div>\n",
              "<style scoped>\n",
              "    .dataframe tbody tr th:only-of-type {\n",
              "        vertical-align: middle;\n",
              "    }\n",
              "\n",
              "    .dataframe tbody tr th {\n",
              "        vertical-align: top;\n",
              "    }\n",
              "\n",
              "    .dataframe thead th {\n",
              "        text-align: right;\n",
              "    }\n",
              "</style>\n",
              "<table border=\"1\" class=\"dataframe\">\n",
              "  <thead>\n",
              "    <tr style=\"text-align: right;\">\n",
              "      <th></th>\n",
              "      <th>videoID</th>\n",
              "      <th>personName</th>\n",
              "      <th>imageHeight</th>\n",
              "      <th>imageWidth</th>\n",
              "      <th>videoDuration</th>\n",
              "      <th>averageFaceSize</th>\n",
              "      <th>numVideosForPerson</th>\n",
              "    </tr>\n",
              "  </thead>\n",
              "  <tbody>\n",
              "    <tr>\n",
              "      <th>2190</th>\n",
              "      <td>Zahir_Shah_0</td>\n",
              "      <td>Zahir_Shah</td>\n",
              "      <td>196.0</td>\n",
              "      <td>200.0</td>\n",
              "      <td>143.0</td>\n",
              "      <td>93.944056</td>\n",
              "      <td>2.0</td>\n",
              "    </tr>\n",
              "    <tr>\n",
              "      <th>2191</th>\n",
              "      <td>Zahir_Shah_1</td>\n",
              "      <td>Zahir_Shah</td>\n",
              "      <td>240.0</td>\n",
              "      <td>293.0</td>\n",
              "      <td>240.0</td>\n",
              "      <td>155.495833</td>\n",
              "      <td>2.0</td>\n",
              "    </tr>\n",
              "  </tbody>\n",
              "</table>\n",
              "</div>\n",
              "      <button class=\"colab-df-convert\" onclick=\"convertToInteractive('df-47dd4cca-ed6f-42c6-bf37-ad429266f2b9')\"\n",
              "              title=\"Convert this dataframe to an interactive table.\"\n",
              "              style=\"display:none;\">\n",
              "        \n",
              "  <svg xmlns=\"http://www.w3.org/2000/svg\" height=\"24px\"viewBox=\"0 0 24 24\"\n",
              "       width=\"24px\">\n",
              "    <path d=\"M0 0h24v24H0V0z\" fill=\"none\"/>\n",
              "    <path d=\"M18.56 5.44l.94 2.06.94-2.06 2.06-.94-2.06-.94-.94-2.06-.94 2.06-2.06.94zm-11 1L8.5 8.5l.94-2.06 2.06-.94-2.06-.94L8.5 2.5l-.94 2.06-2.06.94zm10 10l.94 2.06.94-2.06 2.06-.94-2.06-.94-.94-2.06-.94 2.06-2.06.94z\"/><path d=\"M17.41 7.96l-1.37-1.37c-.4-.4-.92-.59-1.43-.59-.52 0-1.04.2-1.43.59L10.3 9.45l-7.72 7.72c-.78.78-.78 2.05 0 2.83L4 21.41c.39.39.9.59 1.41.59.51 0 1.02-.2 1.41-.59l7.78-7.78 2.81-2.81c.8-.78.8-2.07 0-2.86zM5.41 20L4 18.59l7.72-7.72 1.47 1.35L5.41 20z\"/>\n",
              "  </svg>\n",
              "      </button>\n",
              "      \n",
              "  <style>\n",
              "    .colab-df-container {\n",
              "      display:flex;\n",
              "      flex-wrap:wrap;\n",
              "      gap: 12px;\n",
              "    }\n",
              "\n",
              "    .colab-df-convert {\n",
              "      background-color: #E8F0FE;\n",
              "      border: none;\n",
              "      border-radius: 50%;\n",
              "      cursor: pointer;\n",
              "      display: none;\n",
              "      fill: #1967D2;\n",
              "      height: 32px;\n",
              "      padding: 0 0 0 0;\n",
              "      width: 32px;\n",
              "    }\n",
              "\n",
              "    .colab-df-convert:hover {\n",
              "      background-color: #E2EBFA;\n",
              "      box-shadow: 0px 1px 2px rgba(60, 64, 67, 0.3), 0px 1px 3px 1px rgba(60, 64, 67, 0.15);\n",
              "      fill: #174EA6;\n",
              "    }\n",
              "\n",
              "    [theme=dark] .colab-df-convert {\n",
              "      background-color: #3B4455;\n",
              "      fill: #D2E3FC;\n",
              "    }\n",
              "\n",
              "    [theme=dark] .colab-df-convert:hover {\n",
              "      background-color: #434B5C;\n",
              "      box-shadow: 0px 1px 3px 1px rgba(0, 0, 0, 0.15);\n",
              "      filter: drop-shadow(0px 1px 2px rgba(0, 0, 0, 0.3));\n",
              "      fill: #FFFFFF;\n",
              "    }\n",
              "  </style>\n",
              "\n",
              "      <script>\n",
              "        const buttonEl =\n",
              "          document.querySelector('#df-47dd4cca-ed6f-42c6-bf37-ad429266f2b9 button.colab-df-convert');\n",
              "        buttonEl.style.display =\n",
              "          google.colab.kernel.accessAllowed ? 'block' : 'none';\n",
              "\n",
              "        async function convertToInteractive(key) {\n",
              "          const element = document.querySelector('#df-47dd4cca-ed6f-42c6-bf37-ad429266f2b9');\n",
              "          const dataTable =\n",
              "            await google.colab.kernel.invokeFunction('convertToInteractive',\n",
              "                                                     [key], {});\n",
              "          if (!dataTable) return;\n",
              "\n",
              "          const docLinkHtml = 'Like what you see? Visit the ' +\n",
              "            '<a target=\"_blank\" href=https://colab.research.google.com/notebooks/data_table.ipynb>data table notebook</a>'\n",
              "            + ' to learn more about interactive tables.';\n",
              "          element.innerHTML = '';\n",
              "          dataTable['output_type'] = 'display_data';\n",
              "          await google.colab.output.renderOutput(dataTable, element);\n",
              "          const docLink = document.createElement('div');\n",
              "          docLink.innerHTML = docLinkHtml;\n",
              "          element.appendChild(docLink);\n",
              "        }\n",
              "      </script>\n",
              "    </div>\n",
              "  </div>\n",
              "  "
            ]
          },
          "metadata": {},
          "execution_count": 112
        }
      ]
    },
    {
      "cell_type": "code",
      "source": [
        "# Image height array\n",
        "mh = []\n",
        "\n",
        "for i1 in (df_bonus['imageHeight']):\n",
        "  mh.append(i1)"
      ],
      "metadata": {
        "id": "Q0aePpq23I-c"
      },
      "execution_count": null,
      "outputs": []
    },
    {
      "cell_type": "code",
      "source": [
        "# Image Width array\n",
        "mw = []\n",
        "\n",
        "for i1 in (df_bonus['imageWidth']):\n",
        "  mw.append(i1)"
      ],
      "metadata": {
        "id": "bWuhxRsR_gqw"
      },
      "execution_count": null,
      "outputs": []
    },
    {
      "cell_type": "code",
      "source": [
        "#  Average face Size array\n",
        "mk = []\n",
        "\n",
        "for i1 in (df_bonus['averageFaceSize']):\n",
        "  mk.append(i1)"
      ],
      "metadata": {
        "id": "Fb20fkSZ_nKU"
      },
      "execution_count": null,
      "outputs": []
    },
    {
      "cell_type": "code",
      "source": [
        "# video Duration array\n",
        "mm = []\n",
        "\n",
        "for i1 in (df_bonus['videoDuration']):\n",
        "  mm.append(i1)"
      ],
      "metadata": {
        "id": "-Xdv2Ea7_uA9"
      },
      "execution_count": null,
      "outputs": []
    },
    {
      "cell_type": "code",
      "source": [
        "# Video ID array\n",
        "mv = []\n",
        "\n",
        "for i1 in (df_bonus['videoID']):\n",
        "  mv.append(i1)"
      ],
      "metadata": {
        "id": "6y-Q-1_W_zl1"
      },
      "execution_count": null,
      "outputs": []
    },
    {
      "cell_type": "code",
      "source": [
        "query_id = input(\"\")\n",
        "k = 0\n",
        "for i in range(len(mv)):\n",
        "  if (mv[i] == query_id):\n",
        "    k = i"
      ],
      "metadata": {
        "colab": {
          "base_uri": "https://localhost:8080/"
        },
        "id": "2exWkypgAJ1-",
        "outputId": "5fbf9995-3122-4c76-c8b3-8a49c33d0bfd"
      },
      "execution_count": null,
      "outputs": [
        {
          "name": "stdout",
          "output_type": "stream",
          "text": [
            "Kevin_Spacey_5\n"
          ]
        }
      ]
    },
    {
      "cell_type": "code",
      "source": [
        "print(k)"
      ],
      "metadata": {
        "colab": {
          "base_uri": "https://localhost:8080/"
        },
        "id": "o_3VBLnlAnTu",
        "outputId": "1eac9610-fb37-4bcf-980d-8b096784eb12"
      },
      "execution_count": null,
      "outputs": [
        {
          "output_type": "stream",
          "name": "stdout",
          "text": [
            "11\n"
          ]
        }
      ]
    },
    {
      "cell_type": "code",
      "source": [
        "import math"
      ],
      "metadata": {
        "id": "kzsKCEPHBdUG"
      },
      "execution_count": null,
      "outputs": []
    },
    {
      "cell_type": "code",
      "source": [
        "dist = []\n",
        "for i in range(len(mv)):\n",
        "  kk = abs((mh[i]*mm[i]) - (mh[k]*mm[k])) + abs((mw[i]*mm[i]) - (mw[k]*mm[k])) + abs((mk[i]*mm[i]) - (mk[k]*mm[k]))\n",
        "  #kk = abs((mh[i]) - (mh[k])) + abs((mw[i]) - (mw[k])) + abs((mk[i]) - (mk[k]))\n",
        "  dist.append(kk)"
      ],
      "metadata": {
        "id": "cHKWRGccArz7"
      },
      "execution_count": null,
      "outputs": []
    },
    {
      "cell_type": "code",
      "source": [
        "arr = numpy.array(dist)"
      ],
      "metadata": {
        "id": "UlFv72KZHykF"
      },
      "execution_count": null,
      "outputs": []
    },
    {
      "cell_type": "code",
      "source": [
        "n = 20"
      ],
      "metadata": {
        "id": "UH0WMq8JH_FE"
      },
      "execution_count": null,
      "outputs": []
    },
    {
      "cell_type": "code",
      "source": [
        "idx = np.argpartition(dist, n)\n",
        "print(idx)"
      ],
      "metadata": {
        "colab": {
          "base_uri": "https://localhost:8080/"
        },
        "id": "EPfYYn-KIAkO",
        "outputId": "b8545057-314a-46c2-a95b-f299cbd1bedd"
      },
      "execution_count": null,
      "outputs": [
        {
          "output_type": "stream",
          "name": "stdout",
          "text": [
            "[ 475 1390  102 ... 2191    3 1096]\n"
          ]
        }
      ]
    },
    {
      "cell_type": "code",
      "source": [
        "for i in range(20):\n",
        "  print(mv[idx[i]])"
      ],
      "metadata": {
        "colab": {
          "base_uri": "https://localhost:8080/"
        },
        "id": "W0h2zsb7IzV9",
        "outputId": "04ff7aa7-a677-4ecd-ea00-a29dd030859f"
      },
      "execution_count": null,
      "outputs": [
        {
          "output_type": "stream",
          "name": "stdout",
          "text": [
            "Martin_Sheen_5\n",
            "Ben_Curtis_0\n",
            "Paul_Celluci_4\n",
            "Luis_Fonsi_5\n",
            "Margaret_Thatcher_4\n",
            "Tom_Osborne_5\n",
            "Biljana_Plavsic_3\n",
            "Leticia_Van_de_Putte_0\n",
            "Chris_Cooper_3\n",
            "Richard_Lennon_3\n",
            "Daniell_Sunjata_2\n",
            "Kevin_Spacey_5\n",
            "Cristina_Saralegui_3\n",
            "Elmar_Brok_0\n",
            "Felipe_De_Borbon_1\n",
            "Krishna_Bhadur_Mahara_5\n",
            "Tara_VanDerveer_1\n",
            "Keith_Tyson_0\n",
            "Vaclav_Klaus_3\n",
            "Eric_Staal_5\n"
          ]
        }
      ]
    },
    {
      "cell_type": "code",
      "source": [
        "def query(ik):\n",
        "  k = 0\n",
        "  for i in range(len(mv)):\n",
        "    if (mv[i] == query_id):\n",
        "      k = i\n",
        "\n",
        "  dist = []\n",
        "  for i in range(len(mv)):\n",
        "    kk = abs((mh[i]*mm[i]) - (mh[k]*mm[k])) + abs((mw[i]*mm[i]) - (mw[k]*mm[k])) + abs((mk[i]*mm[i]) - (mk[k]*mm[k]))\n",
        "    dist.append(kk)\n",
        "\n",
        "  arr = numpy.array(dist)\n",
        "  n = 20\n",
        "  idx = np.argpartition(dist, n)\n",
        "  for i in range(20):\n",
        "    print(mv[idx[i]])"
      ],
      "metadata": {
        "id": "4t3nbURrJsYk"
      },
      "execution_count": null,
      "outputs": []
    },
    {
      "cell_type": "code",
      "source": [
        "print(\"video ID with similar video\")\n",
        "qp = query(input(\"\"))\n",
        "print(qp)"
      ],
      "metadata": {
        "colab": {
          "base_uri": "https://localhost:8080/"
        },
        "id": "uFUhqEpKKJBM",
        "outputId": "ebdd1a46-115c-4100-c77d-dbcbaf6f792e"
      },
      "execution_count": null,
      "outputs": [
        {
          "output_type": "stream",
          "name": "stdout",
          "text": [
            "\n",
            "video ID with similar video\n",
            "Andrea_Bocelli_1\n",
            "Martin_Sheen_5\n",
            "Ben_Curtis_0\n",
            "Paul_Celluci_4\n",
            "Luis_Fonsi_5\n",
            "Margaret_Thatcher_4\n",
            "Tom_Osborne_5\n",
            "Biljana_Plavsic_3\n",
            "Leticia_Van_de_Putte_0\n",
            "Chris_Cooper_3\n",
            "Richard_Lennon_3\n",
            "Daniell_Sunjata_2\n",
            "Kevin_Spacey_5\n",
            "Cristina_Saralegui_3\n",
            "Elmar_Brok_0\n",
            "Felipe_De_Borbon_1\n",
            "Krishna_Bhadur_Mahara_5\n",
            "Tara_VanDerveer_1\n",
            "Keith_Tyson_0\n",
            "Vaclav_Klaus_3\n",
            "Eric_Staal_5\n",
            "\n",
            "None\n"
          ]
        }
      ]
    },
    {
      "cell_type": "code",
      "source": [
        ""
      ],
      "metadata": {
        "id": "VcRQBjkQKRvH"
      },
      "execution_count": null,
      "outputs": []
    }
  ]
}